{
 "cells": [
  {
   "cell_type": "markdown",
   "metadata": {},
   "source": [
    "# 내 Sharpe 점수 확인하기\n",
    "\n",
    "You can use this snippet to:\n",
    "\n",
    "- Score your submission\n",
    "- Basic performance details"
   ]
  },
  {
   "cell_type": "code",
   "execution_count": null,
   "metadata": {},
   "outputs": [],
   "source": [
    "import submission_util as subutil\n",
    "import submission_config as subconfig\n",
    "\n",
    "submission = subconfig.OUTPUT_PATH / 'submission.csv' # ...or you can just type the path here\n",
    "\n",
    "test = subutil.Score(submission, 'my_alpha_name', encoding='utf-8')\n",
    "test.get_Sharpe()"
   ]
  },
  {
   "cell_type": "code",
   "execution_count": null,
   "metadata": {},
   "outputs": [],
   "source": [
    "## Return DACON rule volatility\n",
    "test.get_volatility()\n",
    "\n",
    "## Return DACON rule excess return\n",
    "test.get_excess_return()\n",
    "\n",
    "## Return various performance details\n",
    "\n",
    "# Holding Period Return (HPR)\n",
    "test.long_hpr # You should divide by 200 to get the average\n",
    "test.short_hpr # You should divide by 200 to get the average\n",
    "\n",
    "# Daily return\n",
    "test.long_returns\n",
    "test.short_returns\n",
    "\n",
    "# Check your long/short selections\n",
    "test.alpha_winners\n",
    "test.alpha_losers\n",
    "\n",
    "## Check Sim OS HPR of all 2000 stocks (This is the \"Answer\")\n",
    "subutil.Score.holding_return_s"
   ]
  },
  {
   "cell_type": "code",
   "execution_count": null,
   "metadata": {},
   "outputs": [],
   "source": []
  }
 ],
 "metadata": {
  "kernelspec": {
   "display_name": "sandbox39",
   "language": "python",
   "name": "python3"
  },
  "language_info": {
   "codemirror_mode": {
    "name": "ipython",
    "version": 3
   },
   "file_extension": ".py",
   "mimetype": "text/x-python",
   "name": "python",
   "nbconvert_exporter": "python",
   "pygments_lexer": "ipython3",
   "version": "3.9.16"
  },
  "orig_nbformat": 4
 },
 "nbformat": 4,
 "nbformat_minor": 2
}
