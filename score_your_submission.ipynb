{
 "cells": [
  {
   "cell_type": "markdown",
   "metadata": {},
   "source": [
    "# 내 Sharpe 점수 확인하기"
   ]
  },
  {
   "cell_type": "code",
   "execution_count": null,
   "metadata": {},
   "outputs": [],
   "source": [
    "import submission_util as subutil\n",
    "import submission_config as subconfig\n",
    "\n",
    "# You can use this snippet to score your submission\n",
    "\n",
    "submission = subconfig.OUTPUT_PATH / 'submission.csv' # ...or you can just type the path here\n",
    "\n",
    "test1 = subutil.Score(submission, 'my_alpha_name')\n",
    "test1.get_Sharpe()"
   ]
  }
 ],
 "metadata": {
  "language_info": {
   "name": "python"
  },
  "orig_nbformat": 4
 },
 "nbformat": 4,
 "nbformat_minor": 2
}
