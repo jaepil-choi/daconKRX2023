{
 "cells": [
  {
   "cell_type": "markdown",
   "metadata": {},
   "source": [
    "# Alpha 전략 feat.우혁님\n",
    "\n",
    "기존 데이터에 우혁님 코드 합쳐 돌려보기"
   ]
  },
  {
   "cell_type": "markdown",
   "metadata": {},
   "source": [
    "## Basic settings"
   ]
  },
  {
   "cell_type": "markdown",
   "metadata": {},
   "source": [
    "### Import libraries"
   ]
  },
  {
   "cell_type": "code",
   "execution_count": 1,
   "metadata": {},
   "outputs": [],
   "source": [
    "from prophet import Prophet\n",
    "\n",
    "from tqdm import tqdm"
   ]
  },
  {
   "cell_type": "code",
   "execution_count": 2,
   "metadata": {},
   "outputs": [],
   "source": [
    "import pandas as pd\n",
    "import numpy as np\n",
    "\n",
    "import seaborn as sns\n",
    "import matplotlib.pyplot as plt\n",
    "\n",
    "from pathlib import Path"
   ]
  },
  {
   "cell_type": "code",
   "execution_count": 3,
   "metadata": {},
   "outputs": [],
   "source": [
    "## custom library\n",
    "\n",
    "import eda_util as eutil\n",
    "import submission_config as subconfig\n",
    "import submission_util as subutil"
   ]
  },
  {
   "cell_type": "code",
   "execution_count": 4,
   "metadata": {},
   "outputs": [],
   "source": [
    "pd.set_option('display.float_format', lambda x: f'{x:,g}')"
   ]
  },
  {
   "cell_type": "code",
   "execution_count": 5,
   "metadata": {},
   "outputs": [],
   "source": [
    "BASE_PATH = subconfig.BASE_PATH\n",
    "DATA_PATH = subconfig.DATA_PATH\n",
    "\n",
    "OUTPUT_PATH = subconfig.OUTPUT_PATH"
   ]
  },
  {
   "cell_type": "markdown",
   "metadata": {},
   "source": [
    "### Import data & preprocessing"
   ]
  },
  {
   "cell_type": "code",
   "execution_count": 6,
   "metadata": {},
   "outputs": [],
   "source": [
    "krx_df = pd.read_csv(subconfig.krx_df_PATH)"
   ]
  },
  {
   "cell_type": "code",
   "execution_count": 7,
   "metadata": {},
   "outputs": [],
   "source": [
    "krx_df.columns = ['date', 'code', 'name', 'volume', 'open', 'high', 'low', 'close']"
   ]
  },
  {
   "cell_type": "code",
   "execution_count": 8,
   "metadata": {},
   "outputs": [],
   "source": [
    "krx_df['date'] = pd.to_datetime(krx_df['date'], format='%Y%m%d')"
   ]
  },
  {
   "cell_type": "code",
   "execution_count": 9,
   "metadata": {},
   "outputs": [],
   "source": [
    "return_df = pd.read_pickle(subconfig.return_df_PATH)\n",
    "close_df = pd.read_pickle(subconfig.adjclose_df_PATH)"
   ]
  },
  {
   "cell_type": "code",
   "execution_count": 10,
   "metadata": {},
   "outputs": [],
   "source": [
    "open_df = pd.read_pickle(subconfig.adjopen_df_PATH)\n",
    "high_df = pd.read_pickle(subconfig.adjhigh_df_PATH)\n",
    "low_df = pd.read_pickle(subconfig.adjlow_df_PATH)"
   ]
  },
  {
   "cell_type": "code",
   "execution_count": 11,
   "metadata": {},
   "outputs": [],
   "source": [
    "## date list\n",
    "\n",
    "holidays = return_df.isnull().all(axis=1)\n",
    "tradingdays = ~holidays\n",
    "\n",
    "holidays = holidays.index[holidays]\n",
    "tradingdays = tradingdays.index[tradingdays]"
   ]
  },
  {
   "cell_type": "code",
   "execution_count": 12,
   "metadata": {},
   "outputs": [],
   "source": [
    "TRAIN_START = pd.to_datetime(subconfig.TRAIN_START, format='%Y-%m-%d')\n",
    "SIMOS_END = pd.to_datetime(subconfig.SIMOS_END, format='%Y-%m-%d')"
   ]
  },
  {
   "cell_type": "code",
   "execution_count": 13,
   "metadata": {},
   "outputs": [],
   "source": [
    "tradingdays = tradingdays[(tradingdays >= TRAIN_START) & (tradingdays <= SIMOS_END)]"
   ]
  },
  {
   "cell_type": "code",
   "execution_count": 14,
   "metadata": {},
   "outputs": [],
   "source": [
    "dacon_sid_list = [ii[1:] for ii in krx_df['code'].unique()]"
   ]
  },
  {
   "cell_type": "code",
   "execution_count": 15,
   "metadata": {},
   "outputs": [],
   "source": [
    "return_df = return_df.loc[tradingdays, :].dropna(axis='columns', how='all')\n",
    "return_df = return_df.loc[:, dacon_sid_list]\n",
    "\n",
    "close_df = close_df.loc[tradingdays, :].dropna(axis='columns', how='all')\n",
    "close_df = close_df.loc[:, dacon_sid_list]"
   ]
  },
  {
   "cell_type": "code",
   "execution_count": 16,
   "metadata": {},
   "outputs": [],
   "source": [
    "open_df = open_df.loc[tradingdays, :].dropna(axis='columns', how='all')\n",
    "open_df = open_df.loc[:, dacon_sid_list]\n",
    "\n",
    "high_df = high_df.loc[tradingdays, :].dropna(axis='columns', how='all')\n",
    "high_df = high_df.loc[:, dacon_sid_list]\n",
    "\n",
    "low_df = low_df.loc[tradingdays, :].dropna(axis='columns', how='all')\n",
    "low_df = low_df.loc[:, dacon_sid_list]"
   ]
  },
  {
   "cell_type": "code",
   "execution_count": 17,
   "metadata": {},
   "outputs": [],
   "source": [
    "SIMOS_START = subconfig.SIMOS_START\n",
    "# simOS_END = subconfig.SIMOS_END"
   ]
  },
  {
   "cell_type": "markdown",
   "metadata": {},
   "source": [
    "### Import additional data"
   ]
  },
  {
   "cell_type": "code",
   "execution_count": 18,
   "metadata": {},
   "outputs": [],
   "source": [
    "volume_df = pd.read_pickle(subconfig.volume_df_PATH)\n",
    "dollarvolume_df = pd.read_pickle(subconfig.dollarvolume_df_PATH)\n",
    "marketcap_df = pd.read_pickle(subconfig.marketcap_df_PATH)\n",
    "market_cat_df = pd.read_pickle(DATA_PATH / 'market_cat_df_20140101_20230705.pickle')"
   ]
  },
  {
   "cell_type": "code",
   "execution_count": 19,
   "metadata": {},
   "outputs": [],
   "source": [
    "volume_df = volume_df.loc[tradingdays, :].dropna(axis='columns', how='all')\n",
    "volume_df = volume_df.loc[:, dacon_sid_list]\n",
    "\n",
    "dollarvolume_df = dollarvolume_df.loc[tradingdays, :].dropna(axis='columns', how='all')\n",
    "dollarvolume_df = dollarvolume_df.loc[:, dacon_sid_list]\n",
    "\n",
    "marketcap_df = marketcap_df.loc[tradingdays, :].dropna(axis='columns', how='all')\n",
    "marketcap_df = marketcap_df.loc[:, dacon_sid_list]"
   ]
  },
  {
   "cell_type": "code",
   "execution_count": 20,
   "metadata": {},
   "outputs": [],
   "source": [
    "volume_df = volume_df.shift(1)\n",
    "dollarvolume_df = dollarvolume_df.shift(1)\n",
    "marketcap_df = marketcap_df.shift(1)"
   ]
  },
  {
   "cell_type": "code",
   "execution_count": 21,
   "metadata": {},
   "outputs": [],
   "source": [
    "market_cat_inrange = market_cat_df[market_cat_df['trdDd'].isin(tradingdays)]"
   ]
  },
  {
   "cell_type": "code",
   "execution_count": 22,
   "metadata": {},
   "outputs": [],
   "source": [
    "KOSPI_sid_list = market_cat_inrange[market_cat_inrange['is_KOSPI'] == True]['ISU_SRT_CD'].unique()\n",
    "KOSDAQ_sid_list = market_cat_inrange[market_cat_inrange['is_KOSDAQ'] == True]['ISU_SRT_CD'].unique()\n",
    "KONEX_sid_list = market_cat_inrange[market_cat_inrange['is_KONEX'] == True]['ISU_SRT_CD'].unique()"
   ]
  },
  {
   "cell_type": "markdown",
   "metadata": {},
   "source": [
    "### Parameters"
   ]
  },
  {
   "cell_type": "code",
   "execution_count": 23,
   "metadata": {},
   "outputs": [],
   "source": [
    "PORTFOLIO_DATE = subconfig.PORTFOLIO_DATE\n",
    "\n",
    "RDVADV_WINDOW = subconfig.WINDOWS['rdvadv'] # 20"
   ]
  },
  {
   "cell_type": "markdown",
   "metadata": {},
   "source": [
    "## Alphas"
   ]
  },
  {
   "cell_type": "markdown",
   "metadata": {},
   "source": [
    "### Integrating my data with Woohyuk's code"
   ]
  },
  {
   "cell_type": "code",
   "execution_count": 24,
   "metadata": {},
   "outputs": [],
   "source": [
    "## train_close만 잘 맞춰주면 될 것 같습니다 ! \n",
    "\n",
    "## 아래는 인수님꺼에 train_close 넣었던 코드 \n",
    "\n",
    "# Iterate over each unique stock\n",
    "for code in tqdm(dacon_sid_list):\n",
    "    \n",
    "    # Filter by stock code\n",
    "    # Note: All prices are adjusted\n",
    "    # TODO: Add normalized rdvadv signal to the columns\n",
    "\n",
    "    train_close = pd.DataFrame(\n",
    "        data={\n",
    "            'open': open_df.loc[TRAIN_START:SIMOS_START, code],\n",
    "            'high': high_df.loc[TRAIN_START:SIMOS_START, code],\n",
    "            'low': low_df.loc[TRAIN_START:SIMOS_START, code],\n",
    "            'close': close_df.loc[TRAIN_START:SIMOS_START, code],\n",
    "            'dollarvolume': dollarvolume_df.loc[TRAIN_START:SIMOS_START, code],\n",
    "            'marketcap': marketcap_df.loc[TRAIN_START:SIMOS_START, code],\n",
    "        }\n",
    "        )\n",
    "    train_close = train_close.iloc[1:, :] # nan 있는 1st row 제거\n"
   ]
  },
  {
   "cell_type": "code",
   "execution_count": null,
   "metadata": {},
   "outputs": [],
   "source": [
    "train = pd.read_csv('./train.csv')\n",
    "\n",
    "# 결과를 저장하기 위한 dataframe 생성\n",
    "results_df = pd.DataFrame(columns=['종목코드', 'final_return'])\n",
    "\n",
    "# train 데이터에 존재하는 독립적인 종목코드 추출\n",
    "unique_codes = dacon_sid_list\n",
    "\n",
    "# Iterate over each unique stock\n",
    "for code in tqdm(unique_codes):\n",
    "\n",
    "    # Filter by stock code\n",
    "    train_close = train[train['종목코드'] == code][['일자', '거래량', '시가', '고가', '저가',  '종가']]\n",
    "    train_close.columns = ['ds', '거래량', '시가', '고가', '저가', 'y']  # rename the columns for Prophet\n",
    "    train_close['ds'] = pd.to_datetime(train_close['ds'], format='%Y%m%d')\n",
    "\n",
    "    # Initialize Prophet model\n",
    "    prophet_model = Prophet()\n",
    "\n",
    "    # Add additional regressors\n",
    "    prophet_model.add_regressor('거래량')\n",
    "    prophet_model.add_regressor('시가')\n",
    "    prophet_model.add_regressor('고가')\n",
    "    prophet_model.add_regressor('저가')\n",
    "\n",
    "    # Fit Prophet model\n",
    "    prophet_model.fit(train_close)\n",
    "        \n",
    "    # Make predictions\n",
    "    future = prophet_model.make_future_dataframe(periods=15)\n",
    "    future['거래량'] = train_close['거래량']\n",
    "    future['시가'] = train_close['시가']\n",
    "    future['고가'] = train_close['고가']\n",
    "    future['저가'] = train_close['저가']\n",
    "    forecast_prophet = prophet_model.predict(future)\n",
    "    \n",
    "    # Calculate returns for Prophet\n",
    "    returns_prophet = (forecast_prophet['yhat'].values[-1] - forecast_prophet['yhat'].values[-15]) / forecast_prophet['yhat'].values[-15]\n",
    "    returns_df_prophet = pd.DataFrame([returns_prophet])\n",
    "    \n",
    "    # Add returns to final DataFrame\n",
    "    returns_df_fin_prophet = pd.concat([returns_df_fin_prophet, returns_df_prophet], axis=0)"
   ]
  }
 ],
 "metadata": {
  "kernelspec": {
   "display_name": "dl39v1",
   "language": "python",
   "name": "python3"
  },
  "language_info": {
   "codemirror_mode": {
    "name": "ipython",
    "version": 3
   },
   "file_extension": ".py",
   "mimetype": "text/x-python",
   "name": "python",
   "nbconvert_exporter": "python",
   "pygments_lexer": "ipython3",
   "version": "3.9.16"
  },
  "orig_nbformat": 4
 },
 "nbformat": 4,
 "nbformat_minor": 2
}
